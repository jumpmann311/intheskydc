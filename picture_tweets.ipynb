{
 "cells": [
  {
   "cell_type": "code",
   "execution_count": 1,
   "metadata": {},
   "outputs": [
    {
     "name": "stdout",
     "output_type": "stream",
     "text": [
      "Authentication OK\n"
     ]
    }
   ],
   "source": [
    "import pandas as pd\n",
    "pd.options.display.max_colwidth=100\n",
    "from opensky_api import OpenSkyApi\n",
    "import tweepy\n",
    "import time\n",
    "starttime = time.time()\n",
    "#from geopandas import GeoDataFrame\n",
    "#from geopandas import points_from_xy\n",
    "#import geopandas\n",
    "#import pyproj\n",
    "#import contextily as cx\n",
    "import matplotlib\n",
    "import matplotlib.pyplot as plt\n",
    "import numpy as np\n",
    "import datetime\n",
    "from svgpath2mpl import parse_path\n",
    "import cartopy.crs as ccrs\n",
    "import cartopy.feature as cfeature\n",
    "import matplotlib.pyplot as plt\n",
    "import cartopy.crs as ccrs\n",
    "from cartopy.mpl.gridliner import LONGITUDE_FORMATTER, LATITUDE_FORMATTER\n",
    "import cartopy.io.img_tiles as cimgt\n",
    "\n",
    "# Authenticate to Twitter\n",
    "auth = tweepy.OAuthHandler(\"yhAXmaltAhp9KZAZE6V14faxc\", \"DrGDtzXgnpRszePCEluylPZBvhywc0FbNbOCnyWpb7vwzi8X02\")\n",
    "auth.set_access_token(\"1301879949893283847-JRkijsDib10KaoKta3O4Uf852toAWX\", \"Hui802GaKsHe209L5k5oVmJvKrjSXSb4rN9zUUUO2Zyj2\")\n",
    "\n",
    "# Create API object\n",
    "api2 = tweepy.API(auth)\n",
    "\n",
    "try:\n",
    "    api2.verify_credentials()\n",
    "    print(\"Authentication OK\")\n",
    "except:\n",
    "    print(\"Error during authentication\")\n",
    "\n",
    "# Create a tweet\n",
    "#api2.update_status(\"Hello Tweepy\")"
   ]
  },
  {
   "cell_type": "code",
   "execution_count": null,
   "metadata": {},
   "outputs": [],
   "source": [
    "while 1:\n",
    "    \n",
    "    #day counts\n",
    "    media = api2.media_upload('daycounts.png')\n",
    "    tweet = \"Here's a look at the total aircraft counts over a one week period. /n#datascience #analytics #DCSkyReport\"\n",
    "    post_result = api2.update_status(status=tweet, media_ids=[media.media_id])\n",
    "    print (\"Tweeted daily counts\")\n",
    "    print(datetime.datetime.now())\n",
    "    time.sleep(10800) #200ms to CTR+C twice\n",
    "    \n",
    "    \n",
    "    #line graph\n",
    "    media = api2.media_upload('linegraph.png')\n",
    "    tweet = \"The attached image shows DC airspace activity over a 24 hour period. /n#datascience #analytics #DCSkyReport\"\n",
    "    post_result = api2.update_status(status=tweet, media_ids=[media.media_id])\n",
    "    print (\"Tweeted daily counts\")\n",
    "    print(datetime.datetime.now())\n",
    "    time.sleep(10800) #200ms to CTR+C twice\n",
    "    \n",
    "    \n",
    "    #heatmap\n",
    "    media = api2.media_upload('heat.png')\n",
    "    tweet = \" #Heatmap of areas that experienced the most aircraft activity. /n#GIS #GeospatialAnalysis #DCSkyReport\"\n",
    "    post_result = api2.update_status(status=tweet, media_ids=[media.media_id])\n",
    "    print (\"Tweeted daily counts\")\n",
    "    print(datetime.datetime.now())\n",
    "    time.sleep(10800) #200ms to CTR+C twice\n",
    "    \n",
    "    \n",
    "    #bargraph\n",
    "    media = api2.media_upload('bargraph.png')\n",
    "    tweet = \"Aircrafts captured in our dataset over a 24 hour period. /n#datascience #analytics #DCSkyReport\"\n",
    "    post_result = api2.update_status(status=tweet, media_ids=[media.media_id])\n",
    "    print (\"Tweeted daily counts\")\n",
    "    print(datetime.datetime.now())\n",
    "    time.sleep(10800) #200ms to CTR+C twice"
   ]
  },
  {
   "cell_type": "code",
   "execution_count": null,
   "metadata": {},
   "outputs": [],
   "source": []
  }
 ],
 "metadata": {
  "kernelspec": {
   "display_name": "Python 3",
   "language": "python",
   "name": "python3"
  },
  "language_info": {
   "codemirror_mode": {
    "name": "ipython",
    "version": 3
   },
   "file_extension": ".py",
   "mimetype": "text/x-python",
   "name": "python",
   "nbconvert_exporter": "python",
   "pygments_lexer": "ipython3",
   "version": "3.8.2"
  }
 },
 "nbformat": 4,
 "nbformat_minor": 4
}
